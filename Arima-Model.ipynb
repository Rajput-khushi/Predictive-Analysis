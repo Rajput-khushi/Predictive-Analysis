{
 "cells": [
  {
   "cell_type": "code",
   "execution_count": 1,
   "id": "6b26f16d",
   "metadata": {},
   "outputs": [],
   "source": [
    "import pandas as pd\n",
    "import numpy as np\n",
    "import matplotlib.pyplot as plt\n",
    "from statsmodels.tsa.stattools import adfuller\n",
    "from statsmodels.tsa.arima.model import ARIMA \n",
    "from statsmodels.graphics.tsaplots import plot_acf,plot_pacf\n"
   ]
  },
  {
   "cell_type": "code",
   "execution_count": 4,
   "id": "9f3e2724",
   "metadata": {},
   "outputs": [],
   "source": [
    "#load the shampoo sales dataset\n",
    "data=pd.read_csv('Analyse_Training.csv',usecols=[1],names=[\"Training_Deficiencies\"],header=0)"
   ]
  },
  {
   "cell_type": "code",
   "execution_count": 5,
   "id": "77e28014",
   "metadata": {},
   "outputs": [
    {
     "data": {
      "text/html": [
       "<div>\n",
       "<style scoped>\n",
       "    .dataframe tbody tr th:only-of-type {\n",
       "        vertical-align: middle;\n",
       "    }\n",
       "\n",
       "    .dataframe tbody tr th {\n",
       "        vertical-align: top;\n",
       "    }\n",
       "\n",
       "    .dataframe thead th {\n",
       "        text-align: right;\n",
       "    }\n",
       "</style>\n",
       "<table border=\"1\" class=\"dataframe\">\n",
       "  <thead>\n",
       "    <tr style=\"text-align: right;\">\n",
       "      <th></th>\n",
       "      <th>Training_Deficiencies</th>\n",
       "    </tr>\n",
       "  </thead>\n",
       "  <tbody>\n",
       "    <tr>\n",
       "      <th>0</th>\n",
       "      <td>132</td>\n",
       "    </tr>\n",
       "    <tr>\n",
       "      <th>1</th>\n",
       "      <td>134</td>\n",
       "    </tr>\n",
       "    <tr>\n",
       "      <th>2</th>\n",
       "      <td>132</td>\n",
       "    </tr>\n",
       "    <tr>\n",
       "      <th>3</th>\n",
       "      <td>130</td>\n",
       "    </tr>\n",
       "    <tr>\n",
       "      <th>4</th>\n",
       "      <td>130</td>\n",
       "    </tr>\n",
       "    <tr>\n",
       "      <th>5</th>\n",
       "      <td>126</td>\n",
       "    </tr>\n",
       "    <tr>\n",
       "      <th>6</th>\n",
       "      <td>128</td>\n",
       "    </tr>\n",
       "    <tr>\n",
       "      <th>7</th>\n",
       "      <td>125</td>\n",
       "    </tr>\n",
       "    <tr>\n",
       "      <th>8</th>\n",
       "      <td>128</td>\n",
       "    </tr>\n",
       "    <tr>\n",
       "      <th>9</th>\n",
       "      <td>129</td>\n",
       "    </tr>\n",
       "    <tr>\n",
       "      <th>10</th>\n",
       "      <td>127</td>\n",
       "    </tr>\n",
       "    <tr>\n",
       "      <th>11</th>\n",
       "      <td>125</td>\n",
       "    </tr>\n",
       "    <tr>\n",
       "      <th>12</th>\n",
       "      <td>125</td>\n",
       "    </tr>\n",
       "    <tr>\n",
       "      <th>13</th>\n",
       "      <td>125</td>\n",
       "    </tr>\n",
       "    <tr>\n",
       "      <th>14</th>\n",
       "      <td>122</td>\n",
       "    </tr>\n",
       "    <tr>\n",
       "      <th>15</th>\n",
       "      <td>122</td>\n",
       "    </tr>\n",
       "    <tr>\n",
       "      <th>16</th>\n",
       "      <td>121</td>\n",
       "    </tr>\n",
       "    <tr>\n",
       "      <th>17</th>\n",
       "      <td>119</td>\n",
       "    </tr>\n",
       "    <tr>\n",
       "      <th>18</th>\n",
       "      <td>124</td>\n",
       "    </tr>\n",
       "    <tr>\n",
       "      <th>19</th>\n",
       "      <td>129</td>\n",
       "    </tr>\n",
       "    <tr>\n",
       "      <th>20</th>\n",
       "      <td>129</td>\n",
       "    </tr>\n",
       "    <tr>\n",
       "      <th>21</th>\n",
       "      <td>127</td>\n",
       "    </tr>\n",
       "    <tr>\n",
       "      <th>22</th>\n",
       "      <td>127</td>\n",
       "    </tr>\n",
       "    <tr>\n",
       "      <th>23</th>\n",
       "      <td>129</td>\n",
       "    </tr>\n",
       "    <tr>\n",
       "      <th>24</th>\n",
       "      <td>130</td>\n",
       "    </tr>\n",
       "    <tr>\n",
       "      <th>25</th>\n",
       "      <td>132</td>\n",
       "    </tr>\n",
       "    <tr>\n",
       "      <th>26</th>\n",
       "      <td>130</td>\n",
       "    </tr>\n",
       "    <tr>\n",
       "      <th>27</th>\n",
       "      <td>131</td>\n",
       "    </tr>\n",
       "    <tr>\n",
       "      <th>28</th>\n",
       "      <td>130</td>\n",
       "    </tr>\n",
       "    <tr>\n",
       "      <th>29</th>\n",
       "      <td>129</td>\n",
       "    </tr>\n",
       "    <tr>\n",
       "      <th>30</th>\n",
       "      <td>131</td>\n",
       "    </tr>\n",
       "  </tbody>\n",
       "</table>\n",
       "</div>"
      ],
      "text/plain": [
       "    Training_Deficiencies\n",
       "0                     132\n",
       "1                     134\n",
       "2                     132\n",
       "3                     130\n",
       "4                     130\n",
       "5                     126\n",
       "6                     128\n",
       "7                     125\n",
       "8                     128\n",
       "9                     129\n",
       "10                    127\n",
       "11                    125\n",
       "12                    125\n",
       "13                    125\n",
       "14                    122\n",
       "15                    122\n",
       "16                    121\n",
       "17                    119\n",
       "18                    124\n",
       "19                    129\n",
       "20                    129\n",
       "21                    127\n",
       "22                    127\n",
       "23                    129\n",
       "24                    130\n",
       "25                    132\n",
       "26                    130\n",
       "27                    131\n",
       "28                    130\n",
       "29                    129\n",
       "30                    131"
      ]
     },
     "execution_count": 5,
     "metadata": {},
     "output_type": "execute_result"
    }
   ],
   "source": [
    "data"
   ]
  },
  {
   "cell_type": "code",
   "execution_count": 6,
   "id": "7157863a",
   "metadata": {},
   "outputs": [],
   "source": [
    "#covert time series format\n",
    "data.index=pd.date_range(start=\"1901-01\",periods=len(data),freq=\"M\")\n",
    "#converts the datsets into a time series format with a monthly frequency"
   ]
  },
  {
   "cell_type": "code",
   "execution_count": 22,
   "id": "46e660f6",
   "metadata": {},
   "outputs": [
    {
     "data": {
      "text/html": [
       "<div>\n",
       "<style scoped>\n",
       "    .dataframe tbody tr th:only-of-type {\n",
       "        vertical-align: middle;\n",
       "    }\n",
       "\n",
       "    .dataframe tbody tr th {\n",
       "        vertical-align: top;\n",
       "    }\n",
       "\n",
       "    .dataframe thead th {\n",
       "        text-align: right;\n",
       "    }\n",
       "</style>\n",
       "<table border=\"1\" class=\"dataframe\">\n",
       "  <thead>\n",
       "    <tr style=\"text-align: right;\">\n",
       "      <th></th>\n",
       "      <th>Training_Deficiencies</th>\n",
       "    </tr>\n",
       "  </thead>\n",
       "  <tbody>\n",
       "    <tr>\n",
       "      <th>1901-01-31</th>\n",
       "      <td>132</td>\n",
       "    </tr>\n",
       "    <tr>\n",
       "      <th>1901-02-28</th>\n",
       "      <td>134</td>\n",
       "    </tr>\n",
       "    <tr>\n",
       "      <th>1901-03-31</th>\n",
       "      <td>132</td>\n",
       "    </tr>\n",
       "    <tr>\n",
       "      <th>1901-04-30</th>\n",
       "      <td>130</td>\n",
       "    </tr>\n",
       "    <tr>\n",
       "      <th>1901-05-31</th>\n",
       "      <td>130</td>\n",
       "    </tr>\n",
       "  </tbody>\n",
       "</table>\n",
       "</div>"
      ],
      "text/plain": [
       "            Training_Deficiencies\n",
       "1901-01-31                    132\n",
       "1901-02-28                    134\n",
       "1901-03-31                    132\n",
       "1901-04-30                    130\n",
       "1901-05-31                    130"
      ]
     },
     "execution_count": 22,
     "metadata": {},
     "output_type": "execute_result"
    }
   ],
   "source": [
    "data.head()"
   ]
  },
  {
   "cell_type": "code",
   "execution_count": 8,
   "id": "81274d4e",
   "metadata": {},
   "outputs": [
    {
     "data": {
      "image/png": "[encoded data removed]",
      "text/plain": [
       "<Figure size 1000x500 with 1 Axes>"
      ]
     },
     "metadata": {},
     "output_type": "display_data"
    }
   ],
   "source": [
    "#visulaize the data \n",
    "plt.figure(figsize=(10,5))\n",
    "plt.plot(data,marker='o',linestyle=(\"-\"))\n",
    "plt.title(\"Training_Deficiencies over time\")\n",
    "plt.xlabel(\"Date\")\n",
    "plt.ylabel(\"Training_Deficiencies\")\n",
    "plt.grid()\n",
    "plt.show()\n"
   ]
  },
  {
   "cell_type": "code",
   "execution_count": 9,
   "id": "3ccd6808",
   "metadata": {},
   "outputs": [
    {
     "name": "stdout",
     "output_type": "stream",
     "text": [
      "ADF Statistic: -1.853347\n",
      "p-value: 0.354316\n",
      "The series is non-stationary\n"
     ]
    }
   ],
   "source": [
    "result = adfuller(data['Training_Deficiencies'])\n",
    "print('ADF Statistic: %f' % result[0])\n",
    "print('p-value: %f' % result[1])\n",
    "if result[1] <= 0.05:\n",
    "    print('The series is stationary')\n",
    "else:\n",
    "    print('The series is non-stationary')"
   ]
  },
  {
   "cell_type": "code",
   "execution_count": 10,
   "id": "118f86be",
   "metadata": {},
   "outputs": [],
   "source": [
    "#differencing  to make te data sationary \n",
    "data_diff=data.diff().dropna()"
   ]
  },
  {
   "cell_type": "code",
   "execution_count": 12,
   "id": "d63043c7",
   "metadata": {
    "scrolled": false
   },
   "outputs": [
    {
     "data": {
      "image/png": "[encoded data removed]",
      "text/plain": [
       "<Figure size 1200x500 with 2 Axes>"
      ]
     },
     "metadata": {},
     "output_type": "display_data"
    }
   ],
   "source": [
    "#plot ACF and PACF \n",
    "fig,axes=plt.subplots(1,2,figsize=(12,5))\n",
    "plot_acf(data_diff,lags=14, ax=axes[0])\n",
    "plot_pacf(data_diff,lags=14,method='ywm', ax=axes[1])\n",
    "axes[0].set_title(\"ACF Plot\")\n",
    "axes[1].set_title(\"PACF Plot\")\n",
    "plt.show()"
   ]
  },
  {
   "cell_type": "code",
   "execution_count": 14,
   "id": "b5bdf5fd",
   "metadata": {},
   "outputs": [
    {
     "name": "stderr",
     "output_type": "stream",
     "text": [
      "C:\\Users\\rajpu\\anaconda3\\Lib\\site-packages\\statsmodels\\tsa\\statespace\\sarimax.py:966: UserWarning: Non-stationary starting autoregressive parameters found. Using zeros as starting parameters.\n",
      "  warn('Non-stationary starting autoregressive parameters'\n",
      "C:\\Users\\rajpu\\anaconda3\\Lib\\site-packages\\statsmodels\\tsa\\statespace\\sarimax.py:978: UserWarning: Non-invertible starting MA parameters found. Using zeros as starting parameters.\n",
      "  warn('Non-invertible starting MA parameters found.'\n"
     ]
    }
   ],
   "source": [
    "#fit arima model(p,d,q) =(1,1,1) based on acf and pacf analysis\n",
    "model = ARIMA(data,order=(1,1,1))\n",
    "model_fit=model.fit()"
   ]
  },
  {
   "cell_type": "code",
   "execution_count": 15,
   "id": "18b2470b",
   "metadata": {},
   "outputs": [],
   "source": [
    "#arima(5,1,0) is chosen based on acf and pacf analysis \n"
   ]
  },
  {
   "cell_type": "code",
   "execution_count": 16,
   "id": "1bebb0f8",
   "metadata": {},
   "outputs": [
    {
     "name": "stdout",
     "output_type": "stream",
     "text": [
      "                                 SARIMAX Results                                 \n",
      "=================================================================================\n",
      "Dep. Variable:     Training_Deficiencies   No. Observations:                   31\n",
      "Model:                    ARIMA(1, 1, 1)   Log Likelihood                 -65.887\n",
      "Date:                   Thu, 10 Apr 2025   AIC                            137.773\n",
      "Time:                           01:31:38   BIC                            141.977\n",
      "Sample:                       01-31-1901   HQIC                           139.118\n",
      "                            - 07-31-1903                                         \n",
      "Covariance Type:                     opg                                         \n",
      "==============================================================================\n",
      "                 coef    std err          z      P>|z|      [0.025      0.975]\n",
      "------------------------------------------------------------------------------\n",
      "ar.L1          0.8700      0.300      2.904      0.004       0.283       1.457\n",
      "ma.L1         -0.9996     24.939     -0.040      0.968     -49.879      47.880\n",
      "sigma2         4.5611    113.554      0.040      0.968    -218.001     227.123\n",
      "===================================================================================\n",
      "Ljung-Box (L1) (Q):                   0.00   Jarque-Bera (JB):                 0.90\n",
      "Prob(Q):                              0.98   Prob(JB):                         0.64\n",
      "Heteroskedasticity (H):               0.44   Skew:                             0.31\n",
      "Prob(H) (two-sided):                  0.21   Kurtosis:                         2.42\n",
      "===================================================================================\n",
      "\n",
      "Warnings:\n",
      "[1] Covariance matrix calculated using the outer product of gradients (complex-step).\n"
     ]
    }
   ],
   "source": [
    "#print model summary \n",
    "print(model_fit.summary())"
   ]
  },
  {
   "cell_type": "code",
   "execution_count": 17,
   "id": "e8276399",
   "metadata": {},
   "outputs": [],
   "source": [
    "forecast_steps = 12\n",
    "forecast = model_fit.forecast(steps=forecast_steps)\n",
    "# forecasts 12 future time points(next12 mothns )\n",
    "#forecast enerates predicted values baesd on the trained arima model"
   ]
  },
  {
   "cell_type": "code",
   "execution_count": 28,
   "id": "51198b81",
   "metadata": {},
   "outputs": [
    {
     "name": "stdout",
     "output_type": "stream",
     "text": [
      "1903-08-31    130.717901\n",
      "1903-09-30    130.472475\n",
      "1903-10-31    130.258956\n",
      "1903-11-30    130.073194\n",
      "1903-12-31    129.911583\n",
      "1904-01-31    129.770981\n",
      "1904-02-29    129.648658\n",
      "1904-03-31    129.542238\n",
      "1904-04-30    129.449652\n",
      "1904-05-31    129.369103\n",
      "1904-06-30    129.299026\n",
      "1904-07-31    129.238058\n",
      "Freq: M, Name: predicted_mean, dtype: float64\n"
     ]
    }
   ],
   "source": [
    "print(forecast)"
   ]
  },
  {
   "cell_type": "code",
   "execution_count": null,
   "id": "5b3f0d9d",
   "metadata": {},
   "outputs": [],
   "source": []
  }
 ],
 "metadata": {
  "kernelspec": {
   "display_name": "Python 3 (ipykernel)",
   "language": "python",
   "name": "python3"
  },
  "language_info": {
   "codemirror_mode": {
    "name": "ipython",
    "version": 3
   },
   "file_extension": ".py",
   "mimetype": "text/x-python",
   "name": "python",
   "nbconvert_exporter": "python",
   "pygments_lexer": "ipython3",
   "version": "3.11.5"
  }
 },
 "nbformat": 4,
 "nbformat_minor": 5
}
